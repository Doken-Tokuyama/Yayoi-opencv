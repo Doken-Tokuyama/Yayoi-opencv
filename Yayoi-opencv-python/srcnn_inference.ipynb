{
 "cells": [
  {
   "cell_type": "code",
   "execution_count": 1,
   "metadata": {},
   "outputs": [
    {
     "name": "stdout",
     "output_type": "stream",
     "text": [
      "3.4.3\n"
     ]
    }
   ],
   "source": [
    "import cv2\n",
    "import numpy as np\n",
    "import sys\n",
    "import os\n",
    "import math\n",
    "\n",
    "print(cv2.__version__)"
   ]
  },
  {
   "cell_type": "markdown",
   "metadata": {},
   "source": [
    "### Inference config"
   ]
  },
  {
   "cell_type": "code",
   "execution_count": 2,
   "metadata": {},
   "outputs": [],
   "source": [
    "IMG_NAME = \"butterfly_GT.bmp\"\n",
    "#IMG_NAME = \"lenna.bmp\"\n",
    "\n",
    "IMG_OPENCV_NAME = \"opencv.png\"\n",
    "IMG_DNN_NAME = \"srcnn.png\"\n",
    "\n",
    "INTERPOLATION = cv2.INTER_CUBIC\n",
    "SCALE = 2\n",
    "SIZE_CONV = 6\n",
    "\n",
    "PSNR = True"
   ]
  },
  {
   "cell_type": "markdown",
   "metadata": {},
   "source": [
    "### OpenCV dnn config"
   ]
  },
  {
   "cell_type": "code",
   "execution_count": 3,
   "metadata": {},
   "outputs": [],
   "source": [
    "net = cv2.dnn.readNetFromTensorflow('yayoi_srcnn_935_2x.pb')\n",
    "\n",
    "# computation backends\n",
    "# \"0: default C++ backend\n",
    "# \"1: Halide language (http://halide-lang.org/)\n",
    "# \"2: Intel's Deep Learning Inference Engine (https://software.seek.intel.com/deep-learning-deployment)}\n",
    "net.setPreferableBackend(0)\n",
    "\n",
    "# target computation devices\n",
    "# \"0: CPU target (by default)\n",
    "# \"1: OpenCL\n",
    "net.setPreferableTarget(0)"
   ]
  },
  {
   "cell_type": "markdown",
   "metadata": {},
   "source": [
    "### Generate OpenCV resized image for reference"
   ]
  },
  {
   "cell_type": "code",
   "execution_count": 4,
   "metadata": {},
   "outputs": [
    {
     "ename": "AttributeError",
     "evalue": "'NoneType' object has no attribute 'shape'",
     "output_type": "error",
     "traceback": [
      "\u001b[1;31m---------------------------------------------------------------------------\u001b[0m",
      "\u001b[1;31mAttributeError\u001b[0m                            Traceback (most recent call last)",
      "\u001b[1;32m<ipython-input-4-374f0574179b>\u001b[0m in \u001b[0;36m<module>\u001b[1;34m()\u001b[0m\n\u001b[0;32m      1\u001b[0m \u001b[0mimg\u001b[0m \u001b[1;33m=\u001b[0m \u001b[0mcv2\u001b[0m\u001b[1;33m.\u001b[0m\u001b[0mimread\u001b[0m\u001b[1;33m(\u001b[0m\u001b[0mIMG_NAME\u001b[0m\u001b[1;33m,\u001b[0m \u001b[0mcv2\u001b[0m\u001b[1;33m.\u001b[0m\u001b[0mIMREAD_COLOR\u001b[0m\u001b[1;33m)\u001b[0m\u001b[1;33m\u001b[0m\u001b[0m\n\u001b[1;32m----> 2\u001b[1;33m \u001b[0mshape\u001b[0m \u001b[1;33m=\u001b[0m \u001b[0mimg\u001b[0m\u001b[1;33m.\u001b[0m\u001b[0mshape\u001b[0m\u001b[1;33m\u001b[0m\u001b[0m\n\u001b[0m\u001b[0;32m      3\u001b[0m \u001b[1;33m\u001b[0m\u001b[0m\n\u001b[0;32m      4\u001b[0m \u001b[1;32mif\u001b[0m \u001b[0mPSNR\u001b[0m\u001b[1;33m:\u001b[0m\u001b[1;33m\u001b[0m\u001b[0m\n\u001b[0;32m      5\u001b[0m     \u001b[0mimg\u001b[0m \u001b[1;33m=\u001b[0m \u001b[0mcv2\u001b[0m\u001b[1;33m.\u001b[0m\u001b[0mresize\u001b[0m\u001b[1;33m(\u001b[0m\u001b[0mimg\u001b[0m\u001b[1;33m,\u001b[0m \u001b[1;33m(\u001b[0m\u001b[0mint\u001b[0m\u001b[1;33m(\u001b[0m\u001b[0mshape\u001b[0m\u001b[1;33m[\u001b[0m\u001b[1;36m1\u001b[0m\u001b[1;33m]\u001b[0m \u001b[1;33m/\u001b[0m \u001b[0mSCALE\u001b[0m\u001b[1;33m)\u001b[0m\u001b[1;33m,\u001b[0m \u001b[0mint\u001b[0m\u001b[1;33m(\u001b[0m\u001b[0mshape\u001b[0m\u001b[1;33m[\u001b[0m\u001b[1;36m0\u001b[0m\u001b[1;33m]\u001b[0m \u001b[1;33m/\u001b[0m \u001b[0mSCALE\u001b[0m\u001b[1;33m)\u001b[0m\u001b[1;33m)\u001b[0m\u001b[1;33m,\u001b[0m \u001b[0mINTERPOLATION\u001b[0m\u001b[1;33m)\u001b[0m\u001b[1;33m\u001b[0m\u001b[0m\n",
      "\u001b[1;31mAttributeError\u001b[0m: 'NoneType' object has no attribute 'shape'"
     ]
    }
   ],
   "source": [
    "img = cv2.imread(IMG_NAME, cv2.IMREAD_COLOR)\n",
    "shape = img.shape\n",
    "\n",
    "if PSNR:\n",
    "    img = cv2.resize(img, (int(shape[1] / SCALE), int(shape[0] / SCALE)), INTERPOLATION)\n",
    "    img = cv2.resize(img, (shape[1], shape[0]), INTERPOLATION)\n",
    "else:\n",
    "    img = cv2.resize(img, (shape[1] * SCALE, shape[0] * SCALE), INTERPOLATION)\n",
    "\n",
    "cv2.imwrite(IMG_OPENCV_NAME, img, [int(cv2.IMWRITE_PNG_COMPRESSION), 0])"
   ]
  },
  {
   "cell_type": "code",
   "execution_count": null,
   "metadata": {},
   "outputs": [],
   "source": [
    "tick1 = cv2.getTickCount()"
   ]
  },
  {
   "cell_type": "markdown",
   "metadata": {},
   "source": [
    "### Generate super resolution image by SRCNN"
   ]
  },
  {
   "cell_type": "code",
   "execution_count": null,
   "metadata": {},
   "outputs": [],
   "source": [
    "img = cv2.imread(IMG_NAME, cv2.IMREAD_COLOR)\n",
    "img = cv2.cvtColor(img, cv2.COLOR_BGR2YCrCb)\n",
    "shape = img.shape\n",
    "\n",
    "if PSNR:\n",
    "    imgY = cv2.resize(img[:, :, 0], (int(shape[1] / SCALE), int(shape[0] / SCALE)), INTERPOLATION)\n",
    "    imgY = cv2.resize(imgY, (shape[1], shape[0]), cv2.INTER_CUBIC)\n",
    "    img[:, :, 0] = imgY\n",
    "else:\n",
    "    imgY = cv2.resize(img[:, :, 0], (int(shape[1] * SCALE), int(shape[0] * SCALE)), INTERPOLATION)\n",
    "    img[:, :, 0] = imgY\n",
    "\n"
   ]
  },
  {
   "cell_type": "markdown",
   "metadata": {},
   "source": [
    "### PSNR calculation"
   ]
  },
  {
   "cell_type": "code",
   "execution_count": null,
   "metadata": {},
   "outputs": [],
   "source": [
    "im1 = cv2.imread(IMG_NAME, cv2.IMREAD_COLOR)\n",
    "im1 = cv2.cvtColor(im1, cv2.COLOR_BGR2RGB)\n",
    "im2 = cv2.imread(IMG_OPENCV_NAME, cv2.IMREAD_COLOR)\n",
    "im2 = cv2.cvtColor(im2, cv2.COLOR_BGR2RGB)\n",
    "im3 = cv2.imread(IMG_DNN_NAME, cv2.IMREAD_COLOR)\n",
    "im3 = cv2.cvtColor(im3, cv2.COLOR_BGR2RGB)\n",
    "\n",
    "if PSNR:\n",
    "    print(\"opencv:\")\n",
    "    print(cv2.PSNR(im1, im2))\n",
    "    print(\"srcnn:\")\n",
    "    print(cv2.PSNR(im1, im3))"
   ]
  },
  {
   "cell_type": "markdown",
   "metadata": {},
   "source": [
    "### Display image"
   ]
  },
  {
   "cell_type": "code",
   "execution_count": null,
   "metadata": {},
   "outputs": [],
   "source": [
    "pltShow = False\n",
    "\n",
    "if pltShow:    \n",
    "    from matplotlib import pyplot as plt\n",
    "    %matplotlib inline\n",
    "    import seaborn as sns\n",
    "    \n",
    "    plt.figure(num='comparison',figsize=(16,16))\n",
    "\n",
    "    plt.subplot(1,3,1)\n",
    "    plt.title('origin image')\n",
    "    plt.imshow(im1)\n",
    "\n",
    "    plt.subplot(1,3,2)\n",
    "    plt.title('OpenCV')\n",
    "    plt.imshow(im2)\n",
    "\n",
    "    plt.subplot(1,3,3)\n",
    "    plt.title(\"srcnn\")\n",
    "    plt.imshow(im3)"
   ]
  },
  {
   "cell_type": "code",
   "execution_count": null,
   "metadata": {},
   "outputs": [],
   "source": [
    "tick2 = cv2.getTickCount()\n",
    "tick = math.floor( ((tick2 - tick1) * 1000) / cv2.getTickFrequency())\n",
    "\n",
    "if tick >= 60000:\n",
    "    mins = math.floor(tick / 60000)\n",
    "    secs = math.floor((tick - mins * 60000) / 1000)\n",
    "    msec = tick - mins * 60000 - secs * 1000\n",
    "    print(\"Inference processed time: \" + str(mins) + \" mins \" + str(secs) + \" secs \" + str(msec) + \" ms\")\n",
    "elif tick >= 1000:\n",
    "    secs = math.floor(tick / 1000)\n",
    "    msec = tick - secs * 1000\n",
    "    print(\"Inference processed time: \" + str(secs) + \" secs \" + str(msec) + \" ms\")\n",
    "else:\n",
    "    print(\"Inference processed time: \" + str(tick) + \" ms\")"
   ]
  }
 ],
 "metadata": {
  "kernelspec": {
   "display_name": "Python 3",
   "language": "python",
   "name": "python3"
  },
  "language_info": {
   "codemirror_mode": {
    "name": "ipython",
    "version": 3
   },
   "file_extension": ".py",
   "mimetype": "text/x-python",
   "name": "python",
   "nbconvert_exporter": "python",
   "pygments_lexer": "ipython3",
   "version": "3.6.5"
  }
 },
 "nbformat": 4,
 "nbformat_minor": 2
}
